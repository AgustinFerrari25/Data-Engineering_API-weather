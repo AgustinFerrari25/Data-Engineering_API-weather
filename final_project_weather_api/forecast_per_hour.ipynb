{
 "cells": [
  {
   "cell_type": "code",
   "execution_count": 3,
   "metadata": {},
   "outputs": [],
   "source": [
    "import requests\n",
    "from config import AWS_HOST, AWS_DB, AWS_USER, AWS_PORT, AWS_PASSWORD, KEY\n",
    "key = KEY\n",
    "\n",
    "url = f'https://api.weatherapi.com/v1/forecast.json?key={key}&q=Buenos Aires&days=7&aqi=no&alerts=no'\n",
    "response = requests.get(url)\n",
    "data = response.json()\n",
    "\n",
    "forecast_data_dict = {}\n",
    "\n",
    "for forecast_day in data.get('forecast', {}).get('forecastday', []):\n",
    "    hourly_data = forecast_day.get('hour', [])\n",
    "    date = forecast_day.get('date')\n",
    "    \n",
    "    \n",
    "    for i in range(0, len(hourly_data), 2):\n",
    "        hour_data = hourly_data[i]\n",
    "        time = hour_data.get('time')\n",
    "        forecast_data_dict[time] = {\n",
    "            'temperature_c': hour_data.get('temp_c'),\n",
    "            'condition': hour_data.get('condition', {}).get('text'),\n",
    "            'wind_speed_kph': hour_data.get('wind_kph'),\n",
    "            'wind_direction': hour_data.get('wind_dir'),\n",
    "            'pressure_mb': hour_data.get('pressure_mb'),\n",
    "            'humidity_percentage': hour_data.get('humidity'),\n",
    "            'cloud_cover_percentage': hour_data.get('cloud'),\n",
    "            'chance_of_rain_percentage': hour_data.get('chance_of_rain'),\n",
    "            'precipitation_mm': hour_data.get('precip_mm'),\n",
    "            'uv_index': hour_data.get('uv'),\n",
    "        }"
   ]
  },
  {
   "cell_type": "code",
   "execution_count": 4,
   "metadata": {},
   "outputs": [],
   "source": [
    "# Crear DataFrame de Pandas\n",
    "import pandas as pd\n",
    "from datetime import datetime\n",
    "import numpy as np\n",
    "\n",
    "df = pd.DataFrame.from_dict(forecast_data_dict, orient='index').reset_index().rename(columns={\"index\": 'hour'})\n",
    "\n",
    "df['id'] = np.arange(len(df)) + 1\n",
    "creation_date = datetime.now()\n",
    "df['creation_date'] = creation_date\n",
    "\n",
    "df = df[['id', 'hour', 'temperature_c', 'condition', 'wind_speed_kph', 'wind_direction',\n",
    "         'pressure_mb', 'humidity_percentage', 'cloud_cover_percentage', \n",
    "         'chance_of_rain_percentage', 'precipitation_mm', 'uv_index', 'creation_date']]"
   ]
  },
  {
   "cell_type": "code",
   "execution_count": 5,
   "metadata": {},
   "outputs": [],
   "source": [
    "import psycopg2\n",
    "\n",
    "def get_db_connection(host_instance, data_base, user, port, pwd):\n",
    "    try:\n",
    "        conn = psycopg2.connect(\n",
    "            host=host_instance,\n",
    "            dbname=data_base,\n",
    "            user=user,\n",
    "            password=pwd,\n",
    "            port=port\n",
    "        )\n",
    "        print(\"successful connection to AWS Redshift\")\n",
    "        return conn\n",
    "    except Exception as e:\n",
    "        print(\"error connecting to AWS Redshift\")\n",
    "        print(e)"
   ]
  },
  {
   "cell_type": "code",
   "execution_count": 6,
   "metadata": {},
   "outputs": [
    {
     "name": "stdout",
     "output_type": "stream",
     "text": [
      "successful connection to AWS Redshift\n"
     ]
    }
   ],
   "source": [
    "host_instance = AWS_HOST\n",
    "data_base = AWS_DB\n",
    "user = AWS_USER\n",
    "port = AWS_PORT\n",
    "pwd = AWS_PASSWORD\n",
    "\n",
    "conn = get_db_connection(host_instance, data_base, user, port, pwd)"
   ]
  },
  {
   "cell_type": "code",
   "execution_count": 7,
   "metadata": {},
   "outputs": [
    {
     "name": "stdout",
     "output_type": "stream",
     "text": [
      "Table created successfully\n"
     ]
    }
   ],
   "source": [
    "try:\n",
    "    cur = conn.cursor()\n",
    "\n",
    "    cur.execute(\"\"\"\n",
    "         CREATE TABLE IF NOT EXISTS forecastday_per_hour (\n",
    "          id INTEGER,\n",
    "          hour VARCHAR(50),           \n",
    "          temperature_c FLOAT,\n",
    "          condition VARCHAR(50),\n",
    "          wind_speed_kph FLOAT,\n",
    "          wind_direction VARCHAR(50),\n",
    "          pressure_mb FLOAT,\n",
    "          humidity_percentage INTEGER,\n",
    "          cloud_cover_percentage INTEGER,\n",
    "          chance_of_rain_percentage INTEGER,\n",
    "          precipitation_mm FLOAT,\n",
    "          uv_index FLOAT,\n",
    "          creation_date TIMESTAMP,\n",
    "          PRIMARY KEY (hour, id)           \n",
    "        )\n",
    "    \"\"\")\n",
    "\n",
    "    conn.commit()\n",
    "    print(\"Table created successfully\")\n",
    "except Exception as e:\n",
    "    print(\"Error creating table\")\n",
    "    print(e)"
   ]
  },
  {
   "cell_type": "code",
   "execution_count": 8,
   "metadata": {},
   "outputs": [
    {
     "name": "stdout",
     "output_type": "stream",
     "text": [
      "Data inserted successfully\n"
     ]
    }
   ],
   "source": [
    "try:\n",
    "    for index, row in df.iterrows():\n",
    "        values = [str(value) if isinstance(value, pd.Timestamp) else value for value in row]\n",
    "        insert_query = f\"INSERT INTO forecastday_per_hour VALUES ({', '.join(['%s'] * len(values))});\"\n",
    "        cur.execute(insert_query, values)\n",
    "    \n",
    "    conn.commit()\n",
    "    print(\"Data inserted successfully\")\n",
    "except Exception as e:\n",
    "    print(\"Error inserting data\")\n",
    "    print(e)"
   ]
  },
  {
   "cell_type": "code",
   "execution_count": 9,
   "metadata": {},
   "outputs": [
    {
     "name": "stdout",
     "output_type": "stream",
     "text": [
      "Query executed successfully\n"
     ]
    }
   ],
   "source": [
    "try:\n",
    "    cur = conn.cursor()\n",
    "    cur.execute(\"\"\"\n",
    "                DELETE FROM forecastday_per_hour\n",
    "                WHERE (hour, creation_date) IN (\n",
    "                SELECT hour, MAX(creation_date) \n",
    "                FROM forecastday_per_hour \n",
    "                GROUP BY hour \n",
    "                HAVING COUNT(*) > 1);\n",
    "                \"\"\")\n",
    "    conn.commit()\n",
    "    print(\"Query executed successfully\")\n",
    "except Exception as e:\n",
    "    print(\"Error executing query\")\n",
    "    print(e)"
   ]
  }
 ],
 "metadata": {
  "kernelspec": {
   "display_name": ".venv",
   "language": "python",
   "name": "python3"
  },
  "language_info": {
   "codemirror_mode": {
    "name": "ipython",
    "version": 3
   },
   "file_extension": ".py",
   "mimetype": "text/x-python",
   "name": "python",
   "nbconvert_exporter": "python",
   "pygments_lexer": "ipython3",
   "version": "3.12.0"
  }
 },
 "nbformat": 4,
 "nbformat_minor": 2
}
